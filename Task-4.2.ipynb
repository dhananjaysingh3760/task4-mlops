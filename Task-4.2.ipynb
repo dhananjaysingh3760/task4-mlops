{
 "cells": [
  {
   "cell_type": "code",
   "execution_count": null,
   "id": "89490ba1",
   "metadata": {},
   "outputs": [],
   "source": [
    "import numpy as np"
   ]
  },
  {
   "cell_type": "code",
   "execution_count": null,
   "id": "ca573e8f",
   "metadata": {},
   "outputs": [],
   "source": [
    "import cv2"
   ]
  },
  {
   "cell_type": "code",
   "execution_count": null,
   "id": "03e25d72",
   "metadata": {},
   "outputs": [],
   "source": [
    "img=cv2.imread(\"emoji.jpg\")"
   ]
  },
  {
   "cell_type": "code",
   "execution_count": null,
   "id": "345ebbbe",
   "metadata": {},
   "outputs": [],
   "source": [
    "img1 = cv2.imread(\"nature.jpg\")"
   ]
  },
  {
   "cell_type": "code",
   "execution_count": null,
   "id": "e3540ed7",
   "metadata": {},
   "outputs": [],
   "source": [
    "img2 = cv2.imread(\"emoji.jpg\")"
   ]
  },
  {
   "cell_type": "code",
   "execution_count": null,
   "id": "0374810e",
   "metadata": {},
   "outputs": [],
   "source": [
    "cv2.imshow('Hello',img1)\n",
    "cv2.waitKey()\n",
    "cv2.destroyAllWindows()"
   ]
  },
  {
   "cell_type": "code",
   "execution_count": null,
   "id": "dc79fe53",
   "metadata": {},
   "outputs": [],
   "source": [
    "cv2.imshow('Hi',img2)\n",
    "cv2.waitKey()\n",
    "cv2.destroyAllWindows()"
   ]
  },
  {
   "cell_type": "code",
   "execution_count": null,
   "id": "7c47ff92",
   "metadata": {},
   "outputs": [],
   "source": [
    "cimg1 = img1[100:250,200:500]"
   ]
  },
  {
   "cell_type": "code",
   "execution_count": null,
   "id": "c9113cc7",
   "metadata": {},
   "outputs": [],
   "source": [
    "img[100:250,200:500]=cimg1"
   ]
  },
  {
   "cell_type": "code",
   "execution_count": null,
   "id": "c13ee672",
   "metadata": {},
   "outputs": [],
   "source": [
    "cv2.imshow('Hello',img)\n",
    "cv2.waitKey()\n",
    "cv2.destroyAllWindows()\n"
   ]
  },
  {
   "cell_type": "code",
   "execution_count": null,
   "id": "04d8ae43",
   "metadata": {},
   "outputs": [],
   "source": [
    "cimg=img2[100:250,100:500]"
   ]
  },
  {
   "cell_type": "code",
   "execution_count": null,
   "id": "ed06c9bb",
   "metadata": {},
   "outputs": [],
   "source": [
    "img1[100:250,100:500]=cimg"
   ]
  },
  {
   "cell_type": "code",
   "execution_count": null,
   "id": "2d3405c3",
   "metadata": {},
   "outputs": [],
   "source": [
    "cv2.imshow('Hi',img1)\n",
    "cv2.waitKey()\n",
    "cv2.destroyAllWindows()"
   ]
  },
  {
   "cell_type": "code",
   "execution_count": null,
   "id": "8c1ab756",
   "metadata": {},
   "outputs": [],
   "source": []
  }
 ],
 "metadata": {
  "kernelspec": {
   "display_name": "Python 3",
   "language": "python",
   "name": "python3"
  },
  "language_info": {
   "codemirror_mode": {
    "name": "ipython",
    "version": 3
   },
   "file_extension": ".py",
   "mimetype": "text/x-python",
   "name": "python",
   "nbconvert_exporter": "python",
   "pygments_lexer": "ipython3",
   "version": "3.8.5"
  }
 },
 "nbformat": 4,
 "nbformat_minor": 5
}
